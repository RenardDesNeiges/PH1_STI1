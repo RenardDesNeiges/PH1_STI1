{
 "cells": [
  {
   "cell_type": "code",
   "execution_count": 10,
   "metadata": {},
   "outputs": [],
   "source": [
    "%matplotlib inline"
   ]
  },
  {
   "cell_type": "code",
   "execution_count": 11,
   "metadata": {},
   "outputs": [],
   "source": [
    "from ipywidgets import interact, interactive\n",
    "from IPython.display import clear_output, display, HTML"
   ]
  },
  {
   "cell_type": "code",
   "execution_count": 12,
   "metadata": {},
   "outputs": [],
   "source": [
    "import numpy as np\n",
    "from scipy import integrate\n",
    "\n",
    "from matplotlib import pyplot as plt\n",
    "from mpl_toolkits.mplot3d import Axes3D\n",
    "from matplotlib.colors import cnames\n",
    "from matplotlib import animation\n",
    "from matplotlib.pyplot import figure"
   ]
  },
  {
   "cell_type": "code",
   "execution_count": 13,
   "metadata": {},
   "outputs": [],
   "source": [
    "fsz = 10"
   ]
  },
  {
   "cell_type": "code",
   "execution_count": 14,
   "metadata": {},
   "outputs": [],
   "source": [
    "def pend(y, t, b,g):\n",
    "    theta,omega = y\n",
    "    dydt = [omega, -b*omega - g*theta]\n",
    "    return dydt"
   ]
  },
  {
   "cell_type": "code",
   "execution_count": 15,
   "metadata": {},
   "outputs": [],
   "source": [
    "def solve_state_space(g,b,y0,v0,tstop = 10,samples = 100):\n",
    "    plot=True\n",
    "    t = np.linspace(0, tstop, samples)\n",
    "    \n",
    "    y0 = [y0,v0]\n",
    "    sol = integrate.odeint(pend, y0, t, args=(b, g))\n",
    "    \n",
    "    if plot:\n",
    "        fig, ax1 = plt.subplots(figsize=(fsz,fsz))\n",
    "        \n",
    "        color = 'tab:red'\n",
    "        ax1.set_xlabel('time (s)')\n",
    "        ax1.set_ylabel('speed', color=color)\n",
    "        ax1.set_xlim([-.2,tstop])\n",
    "        ax1.set_ylim([-2.,2.])\n",
    "        ax1.plot(t, sol[:, 0], color=color)\n",
    "        ax1.tick_params(axis='y', labelcolor=color)\n",
    "\n",
    "        ax2 = ax1.twinx()  # instantiate a second axes that shares the same x-axis\n",
    "\n",
    "        color = 'tab:blue'\n",
    "        ax2.set_ylabel('position', color=color)  # we already handled the x-label with ax1\n",
    "        ax2.plot(t, sol[:, 1], color=color)\n",
    "        ax2.set_xlim([-1.,tstop])\n",
    "        ax2.set_ylim([-2.,2.])\n",
    "        ax2.plot([-.2,tstop],[0,0],'black',lw=1)\n",
    "        ax2.tick_params(axis='y', labelcolor=color)"
   ]
  },
  {
   "cell_type": "code",
   "execution_count": 16,
   "metadata": {},
   "outputs": [
    {
     "data": {
      "application/vnd.jupyter.widget-view+json": {
       "model_id": "f011bf0073b745658394cf19c586cb31",
       "version_major": 2,
       "version_minor": 0
      },
      "text/plain": [
       "interactive(children=(FloatSlider(value=5.0, description='g', max=10.0), FloatSlider(value=15.0, description='…"
      ]
     },
     "metadata": {},
     "output_type": "display_data"
    }
   ],
   "source": [
    "w = interactive(solve_state_space, g=(0.,10.), b=(0., 30.0),\n",
    "            y0=(-2.,2.),v0=(-5.,5.),tstop=(0.2,30.),samples=(1,500))\n",
    "display(w)"
   ]
  },
  {
   "cell_type": "code",
   "execution_count": 17,
   "metadata": {},
   "outputs": [],
   "source": [
    "def plot_state_space(g,b,stream = False,save = False):\n",
    "    \n",
    "    bound = np.pi/2\n",
    "    \n",
    "    X, Y = np.meshgrid(np.arange(-bound, bound, 0.2), np.arange(-bound, bound, 0.2))\n",
    "\n",
    "    x_shape = X.shape\n",
    "    \n",
    "    U = np.zeros(x_shape)\n",
    "    V = np.zeros(x_shape)\n",
    "    \n",
    "\n",
    "    for x in range(x_shape[0]):\n",
    "        for y in range(x_shape[1]):\n",
    "            U[x,y] = pend([X[x,y],Y[x,y]], 0, b,g)[0]\n",
    "            V[x,y] = pend([X[x,y],Y[x,y]], 0, b,g)[1]\n",
    "\n",
    "    fig, ax = plt.subplots(figsize=(fsz,fsz))\n",
    "    #fig= plt.figure(figsize=(15,15))\n",
    "    if stream:\n",
    "        q = ax.streamplot(X, Y, U, V)\n",
    "    else:\n",
    "        q = ax.quiver(X, Y, U, V, units='xy' ,scale=None, color='red')\n",
    "    \n",
    "    ax.set_xlabel('position')\n",
    "    ax.set_ylabel('speed')\n",
    "    #sol = solve_state_space(g,k,m,v0,False,tstop,samples)\n",
    "    #plt.plot(-sol[0],sol[1])\n",
    "    ax.set_aspect('equal')\n",
    "\n",
    "    plt.xlim(-bound-0.2,bound+0.2)\n",
    "    plt.ylim(-bound-0.2,bound+0.2)\n",
    "\n",
    "    plt.show()\n",
    "    \n",
    "    if save:\n",
    "        if stream:\n",
    "            fig.savefig('stream.jpg')\n",
    "        else:\n",
    "            fig.savefig('quiv.jpg')\n",
    "    "
   ]
  },
  {
   "cell_type": "code",
   "execution_count": 19,
   "metadata": {},
   "outputs": [
    {
     "data": {
      "application/vnd.jupyter.widget-view+json": {
       "model_id": "c5875abb8db947f4b464dc899282d0a0",
       "version_major": 2,
       "version_minor": 0
      },
      "text/plain": [
       "interactive(children=(FloatSlider(value=1.0, description='g', max=2.0), FloatSlider(value=1.0, description='b'…"
      ]
     },
     "metadata": {},
     "output_type": "display_data"
    }
   ],
   "source": [
    "w = interactive(plot_state_space,g=(0.,2.),b=(0.,2.),stream = False)\n",
    "display(w)\n",
    "\n"
   ]
  },
  {
   "cell_type": "code",
   "execution_count": null,
   "metadata": {},
   "outputs": [],
   "source": []
  }
 ],
 "metadata": {
  "kernelspec": {
   "display_name": "Python 3",
   "language": "python",
   "name": "python3"
  },
  "language_info": {
   "codemirror_mode": {
    "name": "ipython",
    "version": 3
   },
   "file_extension": ".py",
   "mimetype": "text/x-python",
   "name": "python",
   "nbconvert_exporter": "python",
   "pygments_lexer": "ipython3",
   "version": "3.8.5"
  }
 },
 "nbformat": 4,
 "nbformat_minor": 4
}
