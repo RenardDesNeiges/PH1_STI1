{
 "cells": [
  {
   "cell_type": "code",
   "execution_count": 1,
   "metadata": {
    "slideshow": {
     "slide_type": "skip"
    }
   },
   "outputs": [],
   "source": [
    "%matplotlib inline"
   ]
  },
  {
   "cell_type": "code",
   "execution_count": 2,
   "metadata": {
    "slideshow": {
     "slide_type": "skip"
    }
   },
   "outputs": [],
   "source": [
    "from ipywidgets import interact, interactive\n",
    "from IPython.display import clear_output, display, HTML"
   ]
  },
  {
   "cell_type": "code",
   "execution_count": 3,
   "metadata": {
    "slideshow": {
     "slide_type": "skip"
    }
   },
   "outputs": [],
   "source": [
    "import numpy as np\n",
    "from scipy import integrate\n",
    "\n",
    "from matplotlib import pyplot as plt\n",
    "from mpl_toolkits.mplot3d import Axes3D\n",
    "from matplotlib.colors import cnames\n",
    "from matplotlib import animation\n",
    "from matplotlib.pyplot import figure"
   ]
  },
  {
   "cell_type": "code",
   "execution_count": 4,
   "metadata": {
    "slideshow": {
     "slide_type": "skip"
    }
   },
   "outputs": [],
   "source": [
    "import bqplot"
   ]
  },
  {
   "cell_type": "code",
   "execution_count": 5,
   "metadata": {},
   "outputs": [],
   "source": [
    "from IPython.display import YouTubeVideo"
   ]
  },
  {
   "cell_type": "code",
   "execution_count": 6,
   "metadata": {
    "slideshow": {
     "slide_type": "skip"
    }
   },
   "outputs": [],
   "source": [
    "fsz = 10"
   ]
  },
  {
   "cell_type": "code",
   "execution_count": 7,
   "metadata": {
    "scrolled": true,
    "slideshow": {
     "slide_type": "slide"
    }
   },
   "outputs": [
    {
     "data": {
      "text/html": [
       "\n",
       "        <iframe\n",
       "            width=\"800\"\n",
       "            height=\"450.0\"\n",
       "            src=\"https://www.youtube.com/embed/fma5WBl90Sw?mute=True\"\n",
       "            frameborder=\"0\"\n",
       "            allowfullscreen\n",
       "        ></iframe>\n",
       "        "
      ],
      "text/plain": [
       "<IPython.lib.display.YouTubeVideo at 0x124ad1f70>"
      ]
     },
     "execution_count": 7,
     "metadata": {},
     "output_type": "execute_result"
    }
   ],
   "source": [
    "YouTubeVideo('fma5WBl90Sw', width=800, height=(9/16)*800, mute=True)"
   ]
  },
  {
   "cell_type": "markdown",
   "metadata": {
    "slideshow": {
     "slide_type": "slide"
    }
   },
   "source": [
    "# Frottements visqueux laminaires\n",
    "![laminar](cylinder_laminar.jpg)\n",
    "\n",
    "## Equation : \n",
    "\n",
    "$\\vec{F_f} = -k \\cdot \\vec{v}$\n",
    "\n",
    "avec:\n",
    "\n",
    "$k = 6 \\pi \\mu r$\n",
    "\n",
    "*pour une sphère à vitesse modérée*"
   ]
  },
  {
   "cell_type": "markdown",
   "metadata": {
    "slideshow": {
     "slide_type": "slide"
    }
   },
   "source": [
    "## Série 6 ex. 3\n",
    "\n",
    "![exercise](s6ex3.png)"
   ]
  },
  {
   "cell_type": "markdown",
   "metadata": {
    "slideshow": {
     "slide_type": "slide"
    }
   },
   "source": [
    "## Somme des forces\n",
    "Forces sur le point materiel :\n",
    "$ \\sum \\vec{F} = m \\cdot \\vec{a} $\n",
    "\n",
    "2 forces : \n",
    "\n",
    "$\\vec{F_f} = - k \\cdot \\vec{v}$\n",
    "\n",
    "$\\vec{P} = - \\vec{e_y} \\cdot g \\cdot m$"
   ]
  },
  {
   "cell_type": "markdown",
   "metadata": {
    "slideshow": {
     "slide_type": "slide"
    }
   },
   "source": [
    "## Mouvement purement vertical donc:\n",
    "\n",
    "$ \\sum F_z = -m\\cdot g - k \\cdot v_z = m \\cdot a_Z$\n",
    "\n",
    "$ -m\\cdot g - k \\cdot \\dot{z} = m \\cdot \\ddot{z}$\n",
    "\n",
    "$ \\ddot{z} + \\frac{k}{m} \\cdot \\dot{z} = - g $\n",
    "\n",
    "$ \\ddot{z} = - g - \\frac{k}{m} \\cdot \\dot{z} $"
   ]
  },
  {
   "cell_type": "code",
   "execution_count": 8,
   "metadata": {
    "slideshow": {
     "slide_type": "skip"
    }
   },
   "outputs": [],
   "source": [
    "def a(v,t,g,k,m):\n",
    "    return -g-(k/m)*v"
   ]
  },
  {
   "cell_type": "code",
   "execution_count": 9,
   "metadata": {
    "slideshow": {
     "slide_type": "skip"
    }
   },
   "outputs": [],
   "source": [
    "def solve_state_space(g,k,m,v0,tstop = 10,samples = 300,plotMin=False):\n",
    "    plot=True\n",
    "    t = np.linspace(0, tstop, samples)\n",
    "    \n",
    "    solV = integrate.odeint(a, v0, t, args=(g, k, m))\n",
    "    solZ = np.cumsum(solV)*(tstop/samples)\n",
    "    \n",
    "    if plot:\n",
    "        fig, ax1 = plt.subplots(figsize=(fsz,fsz))\n",
    "        \n",
    "        color = 'tab:red'\n",
    "        ax1.set_xlabel('time (s)')\n",
    "        ax1.set_ylabel('speed', color=color)\n",
    "        ax1.set_xlim([-1.,tstop])\n",
    "        ax1.set_ylim([-40.,60.])\n",
    "        ax1.plot(t, solV, color=color)\n",
    "        ax1.tick_params(axis='y', labelcolor=color)\n",
    "\n",
    "        ax2 = ax1.twinx()  # instantiate a second axes that shares the same x-axis\n",
    "\n",
    "        color = 'tab:blue'\n",
    "        ax2.set_ylabel('position', color=color)  # we already handled the x-label with ax1\n",
    "        ax2.plot(t, solZ, color=color)\n",
    "        ax2.set_xlim([-1.,tstop])\n",
    "        ax2.set_ylim([-40.,60.])\n",
    "        ax2.plot([-100.,tstop],[0,0],'black',lw=1)\n",
    "        ax2.tick_params(axis='y', labelcolor=color)\n",
    "        \n",
    "        if plotMin:\n",
    "            plt.axvline(x=t[np.argmin(np.abs(solV))],color=\"green\")\n",
    "            zmax = solZ[np.argmin(np.abs(solV))]\n",
    "            ax2.plot([-100.,tstop],[zmax,zmax],'green',lw=1)\n",
    "    \n",
    "    return (solZ,solV)"
   ]
  },
  {
   "cell_type": "code",
   "execution_count": 10,
   "metadata": {
    "slideshow": {
     "slide_type": "skip"
    }
   },
   "outputs": [],
   "source": [
    "def plot_state_space(g,k,m,stream = False):\n",
    "    \n",
    "    X, Y = np.meshgrid(np.arange(-20, 20, 2), np.arange(-20, 20, 2))\n",
    "\n",
    "    x_shape = X.shape\n",
    "    \n",
    "    U = np.zeros(x_shape)\n",
    "    V = np.zeros(x_shape)\n",
    "\n",
    "    for x in range(x_shape[0]):\n",
    "        for y in range(x_shape[1]):\n",
    "            U[x,y] = Y[x,y]\n",
    "            V[x,y] = a(Y[x,y],0,g,k,m)\n",
    "\n",
    "    fig, ax = plt.subplots(figsize=(fsz,fsz))\n",
    "    #fig= plt.figure(figsize=(15,15))\n",
    "    if stream:\n",
    "        q = ax.streamplot(X, Y, U, V)\n",
    "    else:\n",
    "        q = ax.quiver(X, Y, U, V, units='xy' ,scale=None, color='red')\n",
    "    \n",
    "    ax.set_xlabel('position')\n",
    "    ax.set_ylabel('speed')\n",
    "    #sol = solve_state_space(g,k,m,v0,False,tstop,samples)\n",
    "    #plt.plot(-sol[0],sol[1])\n",
    "    ax.set_aspect('equal')\n",
    "\n",
    "    plt.xlim(-22,22)\n",
    "    plt.ylim(-22,22)\n",
    "\n",
    "    plt.show()"
   ]
  },
  {
   "cell_type": "markdown",
   "metadata": {
    "slideshow": {
     "slide_type": "slide"
    }
   },
   "source": [
    "## Solution (analytique) de l'équation différencielle\n",
    "\n",
    "$ \\ddot{z} + \\frac{k}{m} \\cdot \\dot{z}  = - g $\n",
    "\n",
    "$\\Rightarrow$ **deux sous-solutions : la solution particulière et la solution homogène**\n",
    "\n",
    "*La solution complète est une combinaison linéaire des deux autres*"
   ]
  },
  {
   "cell_type": "markdown",
   "metadata": {
    "slideshow": {
     "slide_type": "slide"
    }
   },
   "source": [
    "\n",
    "### Solution Homogène\n",
    "\n",
    "$\\Rightarrow \\ddot{z} + \\frac{k}{m} \\cdot \\dot{z}(t) = 0$\n",
    "\n",
    "on cherche une fonction pour $v(t)$ dont la dérivée est égale a elle meme multipliée par une constante arbitraite\n",
    "\n",
    "$f(t)= e^{at}$\n",
    "\n",
    "$f'(t) = a \\cdot e^{at}$\n",
    "\n",
    "hypothèse $v(t)= \\dot{z} = e^{at}$ \n",
    "\n",
    "alors $\\frac{dv(t)}{dt}=\\ddot{z}= a \\cdot e^{at} = a \\cdot v(t)$\n",
    "\n",
    "$\\Rightarrow \\frac{dv(t)}{dt}=\\ddot{z}= a \\cdot e^{at} = a \\cdot v(t) = -\\frac{b}{m} \\cdot v(t)$\n",
    "\n",
    "car\n",
    "\n",
    "$\\ddot{z} = - \\frac{k}{m} \\cdot \\dot{z}(t)$\n",
    "\n",
    "On a donc la solution homogène : $v_{homogene}(t) = CST \\cdot e^{-\\frac{b}{m}t}$"
   ]
  },
  {
   "cell_type": "markdown",
   "metadata": {
    "slideshow": {
     "slide_type": "slide"
    }
   },
   "source": [
    "### Solution Particulière\n",
    "\n",
    "**Supposons que la vitesse soit une constante**\n",
    "\n",
    "$\\Rightarrow \\frac{dv(t)}{dt} = \\ddot{z} = 0$\n",
    "\n",
    "$\\frac{dv(t)}{dt} + \\frac{k}{m}*v_{part} = -g$\n",
    "\n",
    "*devient donc*\n",
    "\n",
    "$0 + \\frac{k}{m}*v_{part} = -g$\n",
    "\n",
    "$v_{part} = \\frac{-mg}{b}$\n",
    "\n",
    "*ici pas de constante*"
   ]
  },
  {
   "cell_type": "markdown",
   "metadata": {
    "slideshow": {
     "slide_type": "slide"
    }
   },
   "source": [
    "### Solution pour v(t) (combinaison linéare des deux autres solutions)\n",
    "\n",
    "$v(t) = v_{part}  + CST \\cdot v_{homogene}(t)$\n",
    "\n",
    "$v(t) =\\frac{-mg}{b} + CST e^{-\\frac{b}{m}t}$\n",
    "\n",
    "$\\Rightarrow$ conditions initiales :\n",
    "\n",
    "$v(t=0)=v_0$\n",
    "\n",
    "$z(t=0)=0$\n",
    "\n",
    "*Donc:*\n",
    "\n",
    "$v(t=0)=v_0 =\\frac{-mg}{b} + CST e^{-\\frac{b}{m}0}$\n",
    "\n",
    "$v_0 + \\frac{mg}{b} = CST *1$\n",
    "\n",
    "*D'où on trouve la solution*\n",
    "\n",
    "$v(t) = \\frac{-mg}{b}  + (v_0 + \\frac{mg}{b}) \\cdot e^{-\\frac{b}{m}t}$"
   ]
  },
  {
   "cell_type": "markdown",
   "metadata": {
    "slideshow": {
     "slide_type": "slide"
    }
   },
   "source": [
    "### Remarques sur la solution v(t)\n",
    "\n",
    "$v(t) = v_{part}  + (v_0 + \\frac{mg}{b}) \\cdot v_{homogene}(t)$\n",
    "\n",
    "$\\lim_{t \\rightarrow \\infty} v_{homogene}(t) = \\lim_{t \\rightarrow \\infty}  e^{-\\frac{b}{m}t} = 0$\n",
    "\n",
    "$\\lim_{t \\rightarrow \\infty} v(t) = v_{part}$\n",
    "\n",
    "$\\lim_{t \\rightarrow \\infty} v(t) = v_{part} + \\lim_{t \\rightarrow \\infty} (v_0 + \\frac{mg}{b}) \\cdot v_{homogene}(t) = v_{part} + 0 = v_{part}$"
   ]
  },
  {
   "cell_type": "markdown",
   "metadata": {
    "slideshow": {
     "slide_type": "slide"
    }
   },
   "source": [
    "### Solution z(t)\n",
    "\n",
    "On a $v(t) = \\dot{z(t)} = \\frac{dz(t)}{dt}$\n",
    "\n",
    "Et donc $z(t) = \\int v(t) dt + CST$\n",
    "\n",
    "$z(t) = \\int [ \\frac{-mg}{b}  + (v_0 + \\frac{mg}{b}) \\cdot e^{-\\frac{b}{m}t}] dt + CST$\n",
    "\n",
    "$z(t) = \\int  \\frac{-mg}{b} dt +  (v_0 + \\frac{mg}{b}) \\int e^{-\\frac{b}{m}t} dt + CST$\n",
    "\n",
    "$z(t) = \\frac{-mg}{b} \\cdot t +  (v_0 + \\frac{mg}{b})  \\cdot \\frac{-m}{b} \\cdot (e^{-\\frac{b}{m}t} - 1) + CST$\n",
    "\n",
    "$z(t) = \\frac{-mg}{b} \\cdot t +  (v_0 + \\frac{m^2g}{b^2})  \\cdot (1 - e^{-\\frac{b}{m}t}) + CST$\n",
    "\n",
    "Quelle est la valeur de $CST$ ????\n",
    "\n",
    "$z(t=0) = 0$\n",
    "\n",
    "$\\Rightarrow \\frac{-mg}{b} \\cdot 0 +  (v_0 + \\frac{m^2g}{b^2})  \\cdot (1 - e^{-\\frac{b}{m}0}) + CST = 0$\n",
    "\n",
    "$\\Rightarrow 0 +  (v_0 + \\frac{m^2g}{b^2})  \\cdot (0) + CST = 0$\n",
    "\n",
    "$\\Rightarrow CST = 0$\n",
    "\n",
    "Donc on  a le système décrit par:\n",
    "\n",
    "$z(t) = \\frac{-mg}{b} \\cdot t +  (v_0 + \\frac{m^2g}{b^2})  \\cdot (1 - e^{-\\frac{b}{m}t})$\n",
    "\n",
    "$v(t) = \\frac{-mg}{b}  + (v_0 + \\frac{mg}{b}) \\cdot e^{-\\frac{b}{m}t}$"
   ]
  },
  {
   "cell_type": "markdown",
   "metadata": {},
   "source": [
    "# C la teuf\n",
    "\n",
    "$z(t) = \\frac{-mg}{b} \\cdot t +  (v_0 + \\frac{m^2g}{b^2})  \\cdot (1 - e^{-\\frac{b}{m}t})$\n",
    "\n",
    "$v(t) = \\frac{-mg}{b}  + (v_0 + \\frac{mg}{b}) \\cdot e^{-\\frac{b}{m}t}$"
   ]
  },
  {
   "cell_type": "code",
   "execution_count": 11,
   "metadata": {
    "slideshow": {
     "slide_type": "slide"
    }
   },
   "outputs": [
    {
     "data": {
      "application/vnd.jupyter.widget-view+json": {
       "model_id": "6dea4991c70d400b8ee7aefd39d40b67",
       "version_major": 2,
       "version_minor": 0
      },
      "text/plain": [
       "interactive(children=(FloatSlider(value=10.0, description='g', max=20.0), FloatSlider(value=15.0, description=…"
      ]
     },
     "metadata": {},
     "output_type": "display_data"
    }
   ],
   "source": [
    "w = interactive(solve_state_space, g=(0.,20.), k=(0., 30.0),\n",
    "            m=(0.,50.),v0=(-5,80),tstop=(0.2,30.),samples=(1,500),plotMin=False)\n",
    "display(w)"
   ]
  },
  {
   "cell_type": "markdown",
   "metadata": {
    "slideshow": {
     "slide_type": "slide"
    }
   },
   "source": [
    "## State-Space\n",
    "State S given by \n",
    "\n",
    "$S = \\begin{pmatrix}z\\\\ \\dot{z}\\end{pmatrix}$\n",
    "\n",
    "It's derivative given by : \n",
    "\n",
    "$\\dot{S} = \\begin{pmatrix}\\dot{z}\\\\ \\ddot{z}\\end{pmatrix} = \\begin{pmatrix}\\dot{z}\\\\ - g - \\frac{k}{m} \\cdot \\dot{z}  \\end{pmatrix} $"
   ]
  },
  {
   "cell_type": "code",
   "execution_count": 12,
   "metadata": {
    "slideshow": {
     "slide_type": "slide"
    }
   },
   "outputs": [
    {
     "data": {
      "application/vnd.jupyter.widget-view+json": {
       "model_id": "661e5be8e53444d8a8a63c6ad839a17f",
       "version_major": 2,
       "version_minor": 0
      },
      "text/plain": [
       "interactive(children=(FloatSlider(value=10.0, description='g', max=20.0), FloatSlider(value=15.0, description=…"
      ]
     },
     "metadata": {},
     "output_type": "display_data"
    }
   ],
   "source": [
    "w = interactive(plot_state_space, g=(0.,20.), k=(0., 30.0),\n",
    "            m=(0.,200.))\n",
    "display(w)"
   ]
  },
  {
   "cell_type": "code",
   "execution_count": null,
   "metadata": {},
   "outputs": [],
   "source": []
  }
 ],
 "metadata": {
  "celltoolbar": "Slideshow",
  "kernelspec": {
   "display_name": "Python 3",
   "language": "python",
   "name": "python3"
  },
  "language_info": {
   "codemirror_mode": {
    "name": "ipython",
    "version": 3
   },
   "file_extension": ".py",
   "mimetype": "text/x-python",
   "name": "python",
   "nbconvert_exporter": "python",
   "pygments_lexer": "ipython3",
   "version": "3.8.5"
  }
 },
 "nbformat": 4,
 "nbformat_minor": 4
}
